{
 "cells": [
  {
   "cell_type": "markdown",
   "id": "b1e14cc4",
   "metadata": {},
   "source": [
    "Cleaning High Cardinality Data"
   ]
  },
  {
   "cell_type": "code",
   "execution_count": 1,
   "id": "52a357fb",
   "metadata": {},
   "outputs": [],
   "source": [
    "import pandas as pd "
   ]
  },
  {
   "cell_type": "code",
   "execution_count": 2,
   "id": "e305ddde",
   "metadata": {},
   "outputs": [],
   "source": [
    "df = pd.read_csv(\"Ask A Manager Salary Survey 2021 (Responses) - Form Responses 1.csv\")"
   ]
  },
  {
   "cell_type": "markdown",
   "id": "d0a9137e",
   "metadata": {},
   "source": [
    "Renaming Columns"
   ]
  },
  {
   "cell_type": "code",
   "execution_count": 3,
   "id": "06bf26b9",
   "metadata": {},
   "outputs": [],
   "source": [
    "df = df.rename(columns={\n",
    "    \"What is your annual salary? (You'll indicate the currency in a later question. If you are part-time or hourly, please enter an annualized equivalent -- what you would earn if you worked the job 40 hours a week, 52 weeks a year.)\": \"Salary\",\n",
    "    \"How much additional monetary compensation do you get, if any (for example, bonuses or overtime in an average year)? Please only include monetary compensation here, not the value of benefits.\": \"AdditionalComp\",\n",
    "    \"Please indicate the currency\": \"Currency\",\n",
    "    \"How old are you?\": \"Age\",\n",
    "    \"What industry do you work in?\": \"Industry\",\n",
    "    \"Job title\": \"JobTitle\",\n",
    "    \"What country do you work in?\": \"Country\",\n",
    "    \"How many years of professional work experience do you have overall?\": \"ExperienceOverall\",\n",
    "    \"How many years of professional work experience do you have in your field?\": \"ExperienceField\",\n",
    "    \"What is your highest level of education completed?\": \"Education\",\n",
    "    \"What is your gender?\": \"Gender\",\n",
    "    \"What is your race? (Choose all that apply.)\": \"Race\"\n",
    "})"
   ]
  },
  {
   "cell_type": "markdown",
   "id": "23e72ea6",
   "metadata": {},
   "source": [
    "Changing ',' separation for thousands to float"
   ]
  },
  {
   "cell_type": "code",
   "execution_count": 4,
   "id": "51935a4b",
   "metadata": {},
   "outputs": [],
   "source": [
    "df[\"Salary\"] = df[\"Salary\"].str.replace(\",\", \"\").astype(float)\n",
    "df[\"AdditionalComp\"] = df[\"AdditionalComp\"].astype(str).str.replace(\",\", \"\").replace(\"nan\", None)\n",
    "df[\"AdditionalComp\"] = pd.to_numeric(df[\"AdditionalComp\"], errors=\"coerce\")"
   ]
  },
  {
   "cell_type": "markdown",
   "id": "d3708fa9",
   "metadata": {},
   "source": [
    "Converting Currency"
   ]
  },
  {
   "cell_type": "code",
   "execution_count": 5,
   "id": "458cb758",
   "metadata": {},
   "outputs": [],
   "source": [
    "currency_rates = {\n",
    "    'USD': 1.0,\n",
    "    'GBP': 1.25,\n",
    "    'EUR': 1.08,\n",
    "    'CAD': 0.74,\n",
    "    'AUD': 0.66,\n",
    "    'INR': 0.012,\n",
    "    'JPY': 0.0065,\n",
    "    'SGD': 0.74,\n",
    "    'MYR': 0.21,\n",
    "    'IDR': 0.000065,\n",
    "    \n",
    "}\n",
    "\n",
    "def convert_to_usd(row):\n",
    "    rate = currency_rates.get(row['Currency'], None)\n",
    "    if rate is not None:\n",
    "        row['Salary'] = row['Salary'] * rate\n",
    "        if not pd.isna(row['AdditionalComp']):\n",
    "            row['AdditionalComp'] = row['AdditionalComp'] * rate\n",
    "        row['Currency'] = 'USD'\n",
    "    return row\n",
    "\n",
    "df = df.apply(convert_to_usd, axis=1)"
   ]
  },
  {
   "cell_type": "markdown",
   "id": "bd3c0d44",
   "metadata": {},
   "source": [
    "Handling Free-Text Country Names"
   ]
  },
  {
   "cell_type": "code",
   "execution_count": 6,
   "id": "29918ba5",
   "metadata": {},
   "outputs": [],
   "source": [
    "df['Country_cleaned'] = df['Country'].str.strip().str.lower()"
   ]
  },
  {
   "cell_type": "markdown",
   "id": "5d30cfc0",
   "metadata": {},
   "source": [
    "1. Manual Normalization"
   ]
  },
  {
   "cell_type": "code",
   "execution_count": 7,
   "id": "33f27b55",
   "metadata": {},
   "outputs": [],
   "source": [
    "import re\n",
    "\n",
    "# Sample array (full array already provided)\n",
    "unique_locations = df[\"Country\"].unique()\n",
    "\n",
    "\n",
    "replacements = {\n",
    "    'United States': [\n",
    "        r'\\bU\\.?S\\.?A?\\.?\\b', r'\\bU\\.S\\.A\\.?\\b', r'\\bU\\.S\\.?\\.?\\b',\n",
    "        r'\\bUsa\\b', r'\\bus\\b', r'\\bUS\\b', r'\\bUnited States\\b',\n",
    "        r'\\bUnited states\\b', r'\\bUnited states of america\\b',\n",
    "        r'\\bUnited States of America\\b', r'\\bAmerica\\b',\n",
    "        r'\\bUnited Stated\\b', r'\\bUnited Statws\\b', r'\\bUnited Statues\\b',\n",
    "        r'\\bUnited Stattes\\b', r'\\bUnited Statea\\b', r'\\bUSA\\b',\n",
    "        r'\\busa\\b', r'\\bUNITED STATES\\b', r'\\bunited states\\b',\n",
    "        r'\\bUnitedStates\\b', r'\\bUnited STates\\b', r'\\bUntied States\\b',\n",
    "        r'\\bUnites States\\b', r'\\bUnited State\\b', r'\\bUnited Sates\\b',\n",
    "        r'\\bUnite States\\b', r'\\bUnitef Stated\\b', r'\\bUnited Statss\\b',\n",
    "        r'\\bUnited States is America\\b', r'\\bUS of A\\b', r'\\bUnited y\\b',\n",
    "        r'\\bUSAB\\b', r'\\bUnited Stares\\b', r'\\bUSA tomorrow\\b',\n",
    "        r'\\bU\\. S\\.?\\b', r'\\bU\\.A\\.\\b', r'\\bU\\.S>\\b', r'\\bUSS\\b',\n",
    "        r'\\bUSA-- Virgin Islands\\b', r'\\bUSaa\\b', r'\\buSA\\b',\n",
    "        r'\\bUsa \\b', r'\\bUnited States of American\\b',\n",
    "        r'\\bUnited States Of America\\b'\n",
    "    ],\n",
    "    'United Kingdom': [\n",
    "        r'\\bUK\\b', r'\\buk\\b', r'\\bUk\\b', r'\\bU\\.K\\.?\\b',\n",
    "        r'\\bUnited Kingdom\\b', r'\\bEngland\\b', r'\\bGreat Britain\\b',\n",
    "        r'\\bScotland\\b', r'\\bWales\\b', r'\\bEngland/UK\\b',\n",
    "        r'\\bUnited Kindom\\b', r'\\bUnited Kingdomk\\b', r'\\bU\\.K. \\(northern England\\)\\b',\n",
    "        r'\\bEngland, UK\\b', r'\\bEngland, United Kingdom\\b',\n",
    "        r'\\bEngland, United Kingdom \\b', r'\\bEngland, Gb\\b',\n",
    "        r'\\bNorthern Ireland\\b', r'\\bUK \\(Northern Ireland\\)\\b',\n",
    "        r'\\bUnited kingdom\\b', r'\\bUnited kingdom \\b', r'\\bunited kingdom\\b',\n",
    "        r'\\bScotland, UK\\b', r'\\bWales \\(United Kingdom\\)\\b',\n",
    "        r'\\bUK, remote\\b', r'\\bUK, but for globally fully remote company\\b',\n",
    "        r'\\bUK \\(England\\)\\b'\n",
    "    ],\n",
    "    'Canada': [\n",
    "        r'\\bCanada\\b', r'\\bcanada\\b', r'\\bCanada, Ottawa, ontario\\b',\n",
    "        r'\\bCanada and USA\\b', r'\\bCANADA\\b', r'\\bCANADA \\b',\n",
    "        r'\\bCanadw\\b', r'\\bCsnada\\b', r'\\bCanad\\b', r'\\bCanadá\\b'\n",
    "    ],\n",
    "    'Australia': [\n",
    "        r'\\bAustralia\\b', r'\\bAustralia \\b', r'\\baustralia\\b',\n",
    "        r'\\bAustrali\\b', r'\\bAustralian \\b'\n",
    "    ],\n",
    "    'Netherlands': [\n",
    "        r'\\bThe Netherlands\\b', r'\\bthe Netherlands\\b', r'\\bNetherlands\\b',\n",
    "        r'\\bnetherlands\\b', r'\\bNetherlands \\b', r'\\bThe Netherlands \\b',\n",
    "        r'\\bNederland\\b', r'\\bNL\\b'\n",
    "    ],\n",
    "    'Germany': [\n",
    "        r'\\bGermany\\b', r'\\bGermany \\b', r'\\bgermany\\b'\n",
    "    ],\n",
    "    'India': [\n",
    "        r'\\bIndia\\b', r'\\bindia\\b', r'\\bINDIA\\b', r'\\bibdia\\b'\n",
    "    ],\n",
    "    'France': [\n",
    "        r'\\bFrance\\b', r'\\bFRANCE\\b', r'\\bfrance\\b', r'\\bFrance \\b'\n",
    "    ],\n",
    "    'Mexico': [\n",
    "        r'\\bMexico\\b', r'\\bMexico \\b', r'\\bMéxico\\b'\n",
    "    ],\n",
    "    'New Zealand': [\n",
    "        r'\\bNew Zealand\\b', r'\\bNew zealand\\b', r'\\bNZ\\b',\n",
    "        r'\\bNew Zealand Aotearoa\\b', r'\\bAotearoa New Zealand\\b',\n",
    "        r'\\bFrom New Zealand but on projects across APAC\\b'\n",
    "    ],\n",
    "    'Singapore': [\n",
    "        r'\\bSingapore\\b', r'\\bsingapore\\b', r'\\bSingapore \\b'\n",
    "    ],\n",
    "    'HongKong':[\n",
    "        r'\\bHong KongKong\\b'\n",
    "    ]\n",
    "}\n",
    "\n",
    "# Function to normalize location\n",
    "def normalize_location(loc):\n",
    "    for standard, patterns in replacements.items():\n",
    "        for pattern in patterns:\n",
    "            if re.search(pattern, loc, re.IGNORECASE):\n",
    "                return standard\n",
    "    return loc.strip()\n",
    "\n",
    "# Apply normalization\n",
    "normalized_locations = [normalize_location(loc) for loc in unique_locations]\n",
    "unique_normalized_locations = sorted(set(normalized_locations))\n",
    "\n",
    "df['Country_cleaned'] = df['Country'].apply(normalize_location)\n"
   ]
  },
  {
   "cell_type": "code",
   "execution_count": 8,
   "id": "60205ec9",
   "metadata": {},
   "outputs": [],
   "source": [
    "import re\n",
    "from rapidfuzz import process, fuzz\n",
    "import pycountry"
   ]
  },
  {
   "cell_type": "markdown",
   "id": "c6c976bd",
   "metadata": {},
   "source": [
    "2. Implementing Fuzzy Logic"
   ]
  },
  {
   "cell_type": "code",
   "execution_count": null,
   "id": "989c6dc4",
   "metadata": {},
   "outputs": [],
   "source": [
    "valid_countries = [country.name for country in pycountry.countries]\n",
    "valid_countries += ['United States', 'United Kingdom'] \n",
    "\n",
    "def regex_normalize(loc):\n",
    "    for standard, patterns in replacements.items():\n",
    "        for pattern in patterns:\n",
    "            if re.search(pattern, loc, re.IGNORECASE):\n",
    "                return standard\n",
    "    return None \n",
    "\n",
    "def fuzzy_match_country(loc, threshold=85):\n",
    "    match = process.extractOne(loc, valid_countries, scorer=fuzz.ratio)\n",
    "    if match and match[1] >= threshold:\n",
    "        return match[0]\n",
    "    return None\n",
    "\n",
    "def normalize_location_full(loc):\n",
    "    if not isinstance(loc, str):\n",
    "        return None\n",
    "    loc = loc.strip()\n",
    "    \n",
    "    norm = regex_normalize(loc)\n",
    "    if norm:\n",
    "        return norm\n",
    "    \n",
    "    return fuzzy_match_country(loc)\n",
    "\n",
    "df['Country_cleaned'] = df['Country'].astype(str).apply(normalize_location_full)\n",
    "\n",
    "df = df[df['Country_cleaned'].notnull()]\n"
   ]
  },
  {
   "cell_type": "markdown",
   "id": "ca81e988",
   "metadata": {},
   "source": [
    "Generalize Industry Column"
   ]
  },
  {
   "cell_type": "code",
   "execution_count": null,
   "id": "705c0ec5",
   "metadata": {},
   "outputs": [
    {
     "name": "stdout",
     "output_type": "stream",
     "text": [
      "Industry_grouped\n",
      "Tech                           9390\n",
      "Education                      3764\n",
      "Finance                        2351\n",
      "Healthcare                     2099\n",
      "Government                     1917\n",
      "Engineering & Manufacturing    1768\n",
      "Marketing                      1426\n",
      "Legal                          1097\n",
      "Other                           944\n",
      "Consulting                      891\n",
      "Retail                          515\n",
      "Construction & Real Estate      450\n",
      "Art & Design                    370\n",
      "Media & Entertainment           337\n",
      "Logistics                       315\n",
      "Nonprofit                       274\n",
      "Agriculture                     138\n",
      "Name: count, dtype: int64\n"
     ]
    }
   ],
   "source": [
    "df['Industry_cleaned'] = df['Industry'].str.strip().str.lower().fillna('')\n",
    "\n",
    "def map_industry(industry):\n",
    "    if any(x in industry for x in ['tech', 'software', 'it', 'developer', 'data', 'cyber']):\n",
    "        return 'Tech'\n",
    "    elif any(x in industry for x in ['finance', 'bank', 'accounting', 'investment', 'insurance']):\n",
    "        return 'Finance'\n",
    "    elif any(x in industry for x in ['health', 'hospital', 'medical', 'clinic', 'nurse', 'pharma']):\n",
    "        return 'Healthcare'\n",
    "    elif any(x in industry for x in ['education', 'school', 'university', 'teaching', 'academic', 'library', 'libraries','science', 'research']):\n",
    "        return 'Education'\n",
    "    elif any(x in industry for x in ['government', 'public administration', 'military']):\n",
    "        return 'Government'\n",
    "    elif any(x in industry for x in ['nonprofit', 'ngo', 'charity', 'social']):\n",
    "        return 'Nonprofit'\n",
    "    elif any(x in industry for x in ['retail', 'ecommerce', 'shopping', 'fashion']):\n",
    "        return 'Retail'\n",
    "    elif any(x in industry for x in ['media', 'entertainment', 'music', 'film','publishing']):\n",
    "        return 'Media & Entertainment'\n",
    "    elif any(x in industry for x in ['law', 'legal', 'attorney']):\n",
    "        return 'Legal'\n",
    "    elif any(x in industry for x in ['construction', 'real estate', 'architecture']):\n",
    "        return 'Construction & Real Estate'\n",
    "    elif any(x in industry for x in ['consulting', 'strategy', 'business']):\n",
    "        return 'Consulting'\n",
    "    elif any(x in industry for x in ['manufacturing', 'engineering', 'mechanical']):\n",
    "        return 'Engineering & Manufacturing'\n",
    "    elif any(x in industry for x in ['transport', 'logistics', 'supply chain']):\n",
    "        return 'Logistics'\n",
    "    elif any(x in industry for x in ['marketing','advertising','sales']):\n",
    "        return 'Marketing'\n",
    "    elif any(x in industry for x in ['art', 'design']):\n",
    "        return 'Art & Design'\n",
    "    elif any(x in industry for x in ['agriculture', 'forestry']):\n",
    "        return 'Agriculture'\n",
    "    \n",
    "    else:\n",
    "        return 'Other'\n",
    "\n",
    "df['Industry_grouped'] = df['Industry_cleaned'].apply(map_industry)\n",
    "\n",
    "print(df['Industry_grouped'].value_counts())"
   ]
  },
  {
   "cell_type": "markdown",
   "id": "cb99289a",
   "metadata": {},
   "source": [
    "Generalize JobTitle Column"
   ]
  },
  {
   "cell_type": "code",
   "execution_count": null,
   "id": "45aa5ebe",
   "metadata": {},
   "outputs": [],
   "source": [
    "df['JobTitle_cleaned'] = df['JobTitle'].astype(str).str.strip().str.lower().fillna('')"
   ]
  },
  {
   "cell_type": "code",
   "execution_count": null,
   "id": "6656d145",
   "metadata": {},
   "outputs": [
    {
     "data": {
      "text/plain": [
       "JobTitle_grouped\n",
       "Management                      9216\n",
       "Executive                       4490\n",
       "Engineering & IT                4103\n",
       "Education & Training            1620\n",
       "Data & Analytics                1606\n",
       "Administrative                  1220\n",
       "Other                           1146\n",
       "Marketing & Communications       992\n",
       "Legal                            514\n",
       "Consulting                       512\n",
       "Strategist                       502\n",
       "Healthcare                       440\n",
       "Creative Arts                    331\n",
       "Finance & Accounting             282\n",
       "Human Resources                  265\n",
       "Project & Program Management     247\n",
       "Assistant                        140\n",
       "Sales                            107\n",
       "Researcher & Scientist           100\n",
       "Intern                            71\n",
       "Customer Service                  67\n",
       "News & Media                      42\n",
       "Entrepreneur                      17\n",
       "Language Expert                   16\n",
       "Name: count, dtype: int64"
      ]
     },
     "execution_count": 12,
     "metadata": {},
     "output_type": "execute_result"
    }
   ],
   "source": [
    "def map_job_title(title):\n",
    "    title = str(title).lower()\n",
    "    if any(x in title for x in ['ceo', 'cfo','cto','director','chief', 'executive', 'president', 'vp', 'vice','head']):\n",
    "        return 'Executive'\n",
    "    elif any(x in title for x in ['coordinator','manager', 'supervisor', 'lead','senior']):\n",
    "        return 'Management'\n",
    "    elif any(x in title for x in ['computer','agile','scrum','engineer', 'developer', 'programmer', 'software', 'tech', 'technician', 'it']):\n",
    "        return 'Engineering & IT'\n",
    "    elif any(x in title for x in ['data', 'analyst', 'scientist', 'analytics','statistician']):\n",
    "        return 'Data & Analytics'\n",
    "    elif any(x in title for x in ['designer','artist','graphic','design']):\n",
    "        return 'Creative Arts'\n",
    "    elif any(x in title for x in ['school','teaching','Bookkeeper','lecturer','library','librarian','teacher', 'instructor', 'educator', 'professor', 'tutor', 'trainer', 'instructional','education','research']):\n",
    "        return 'Education & Training'\n",
    "    elif any(x in title for x in ['outreach','pr','marketing', 'brand', 'communications', 'content', 'seo','reporter']):\n",
    "        return 'Marketing & Communications'\n",
    "    elif any(x in title for x in ['sales', 'account executive', 'business development']):\n",
    "        return 'Sales'\n",
    "    elif any(x in title for x in ['hr', 'human resources', 'recruiter', 'talent']):\n",
    "        return 'Human Resources'\n",
    "    elif any(x in title for x in ['archivist','admin', 'administrative', 'office', 'clerk','associate']):\n",
    "        return 'Administrative'\n",
    "    elif any(x in title for x in ['risk','payroll','finance', 'accounting', 'accountant', 'cpa', 'auditor','economist','buyer']):\n",
    "        return 'Finance & Accounting'\n",
    "    elif any(x in title for x in ['legal', 'lawyer', 'attorney', 'paralegal','compliance','advocate']):\n",
    "        return 'Legal'\n",
    "    elif any(x in title for x in ['dental','clinician','surgeon','clinical','psychiatrist','veterinary','optometrist','veterinarian','pharmacist','nurse', 'doctor', 'physician', 'medical', 'health','therapist']):\n",
    "        return 'Healthcare'\n",
    "    elif any(x in title for x in ['counsel','consultant', 'consulting', 'advisor','psychologist','adviser']):\n",
    "        return 'Consulting'\n",
    "    elif any(x in title for x in ['customer service', 'support', 'help desk']):\n",
    "        return 'Customer Service'\n",
    "    elif any(x in title for x in ['producer','project', 'program','partner','assistant']):\n",
    "        return 'Project & Program Management'\n",
    "    elif any(x in title for x in ['owner']):\n",
    "        return 'Entrepreneur'\n",
    "    elif any(x in title for x in ['biologist', 'epidemiologist','geologist','archaeologist','biostatistician','chemist','astronomer','sciences','ecologist','scientific']):\n",
    "        return 'Researcher & Scientist'\n",
    "    elif any(x in title for x in ['journalist','reporter','media','author']):\n",
    "        return 'News & Media'\n",
    "    elif any(x in title for x in ['translator']):\n",
    "        return 'Language Expert'\n",
    "    elif any(x in title for x in ['assistant','controller','worker']):\n",
    "        return 'Assistant'\n",
    "    elif any(x in title for x in ['intern','student']):\n",
    "        return 'Intern'\n",
    "    elif any(x in title for x in ['planner','strategist','planning','investigator','predictor','specialist','tester']):\n",
    "        return 'Strategist'\n",
    "    else:\n",
    "        return 'Other'\n",
    "df['JobTitle_grouped'] = df['JobTitle_cleaned'].apply(map_job_title)\n",
    "\n",
    "df['JobTitle_grouped'].value_counts()\n"
   ]
  },
  {
   "cell_type": "markdown",
   "id": "a9b59cea",
   "metadata": {},
   "source": [
    "Selecting Clean Columns for Step 1"
   ]
  },
  {
   "cell_type": "code",
   "execution_count": 18,
   "id": "65ed66f1",
   "metadata": {},
   "outputs": [],
   "source": [
    "df = df[['Age','Industry_grouped','JobTitle_grouped','Salary','AdditionalComp','Country_cleaned','ExperienceOverall','ExperienceField','Education','Gender','Race']]"
   ]
  },
  {
   "cell_type": "code",
   "execution_count": 21,
   "id": "24654291",
   "metadata": {},
   "outputs": [],
   "source": [
    "df.to_csv(\"CleanedDataset.csv\", index=False)"
   ]
  },
  {
   "cell_type": "markdown",
   "id": "719cf130",
   "metadata": {},
   "source": [
    "CleanedDataset will be the one used "
   ]
  }
 ],
 "metadata": {
  "kernelspec": {
   "display_name": "base",
   "language": "python",
   "name": "python3"
  },
  "language_info": {
   "codemirror_mode": {
    "name": "ipython",
    "version": 3
   },
   "file_extension": ".py",
   "mimetype": "text/x-python",
   "name": "python",
   "nbconvert_exporter": "python",
   "pygments_lexer": "ipython3",
   "version": "3.11.7"
  }
 },
 "nbformat": 4,
 "nbformat_minor": 5
}
